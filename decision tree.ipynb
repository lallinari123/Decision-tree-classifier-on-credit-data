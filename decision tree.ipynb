{
 "cells": [
  {
   "cell_type": "code",
   "execution_count": 3,
   "id": "2a6b15a8",
   "metadata": {},
   "outputs": [],
   "source": [
    "import numpy as np\n",
    "import pandas as pd\n",
    "import matplotlib.pyplot as plt\n",
    "%matplotlib inline"
   ]
  },
  {
   "cell_type": "code",
   "execution_count": 4,
   "id": "eb8b6c2a",
   "metadata": {},
   "outputs": [],
   "source": [
    "from sklearn.tree import DecisionTreeClassifier"
   ]
  },
  {
   "cell_type": "markdown",
   "id": "1e2e25c1",
   "metadata": {},
   "source": [
    "decision tree can be used both for classification and regression in case of regression we have to import DecisionTreeRegressor"
   ]
  },
  {
   "cell_type": "code",
   "execution_count": 5,
   "id": "a5207849",
   "metadata": {},
   "outputs": [],
   "source": [
    "credit_df=pd.read_csv(\"C:/Users/Narasimha Rao/OneDrive/Desktop/credit.csv\")"
   ]
  },
  {
   "cell_type": "markdown",
   "id": "8670e993",
   "metadata": {},
   "source": [
    "it is a jerman bank historical dat...it gave loans to cutsomers..some of them are defaulters and some of them are good customers\n",
    "we have to find the customers who is going to take loan defaulter or good"
   ]
  },
  {
   "cell_type": "code",
   "execution_count": 6,
   "id": "0f493315",
   "metadata": {},
   "outputs": [
    {
     "name": "stdout",
     "output_type": "stream",
     "text": [
      "<class 'pandas.core.frame.DataFrame'>\n",
      "RangeIndex: 1000 entries, 0 to 999\n",
      "Data columns (total 17 columns):\n",
      " #   Column                Non-Null Count  Dtype \n",
      "---  ------                --------------  ----- \n",
      " 0   checking_balance      1000 non-null   object\n",
      " 1   months_loan_duration  1000 non-null   int64 \n",
      " 2   credit_history        1000 non-null   object\n",
      " 3   purpose               1000 non-null   object\n",
      " 4   amount                1000 non-null   int64 \n",
      " 5   savings_balance       1000 non-null   object\n",
      " 6   employment_duration   1000 non-null   object\n",
      " 7   percent_of_income     1000 non-null   int64 \n",
      " 8   years_at_residence    1000 non-null   int64 \n",
      " 9   age                   1000 non-null   int64 \n",
      " 10  other_credit          1000 non-null   object\n",
      " 11  housing               1000 non-null   object\n",
      " 12  existing_loans_count  1000 non-null   int64 \n",
      " 13  job                   1000 non-null   object\n",
      " 14  dependents            1000 non-null   int64 \n",
      " 15  phone                 1000 non-null   object\n",
      " 16  default               1000 non-null   object\n",
      "dtypes: int64(7), object(10)\n",
      "memory usage: 132.9+ KB\n"
     ]
    }
   ],
   "source": [
    "credit_df.info()"
   ]
  },
  {
   "cell_type": "markdown",
   "id": "f52fbec3",
   "metadata": {},
   "source": [
    "most of the columns are object menas they are strings..decision tree wont work on strings so we have to chane data types"
   ]
  },
  {
   "cell_type": "markdown",
   "id": "d9bf6e0b",
   "metadata": {},
   "source": [
    "decision tress are work on categorical data..it is stored in to numbers"
   ]
  },
  {
   "cell_type": "code",
   "execution_count": 11,
   "id": "e9866f8e",
   "metadata": {},
   "outputs": [],
   "source": [
    "for feature in credit_df.columns: #to loop through the entire data frame\n",
    "    if credit_df[feature].dtype==\"object\": #test wheather the datatype of each attrributr is object\n",
    "        credit_df[feature]=pd.Categorical(credit_df[feature]).codes #convert into categorical\n",
    "        \n",
    "        #to be careful while changing the datatype...if u change after changing also it wont change..for ex..for sex we have male and female\n",
    "        for male 1 and female is 0..we have to maintain the order..we dont use this mathod for converting to categorical..\n",
    "        we dont have this type of data in my dataset"
   ]
  },
  {
   "cell_type": "markdown",
   "id": "b930be6e",
   "metadata": {},
   "source": [
    "credit_df.info()"
   ]
  },
  {
   "cell_type": "code",
   "execution_count": 20,
   "id": "4c1b0a5e",
   "metadata": {},
   "outputs": [],
   "source": [
    "train_set=credit_df.head(500)\n",
    "test_set=credit_df.tail(500)\n",
    "train_labels=train_set.pop(\"default\")\n",
    "test_labels=test_set.pop(\"default\")"
   ]
  },
  {
   "cell_type": "markdown",
   "id": "fe838e88",
   "metadata": {},
   "source": [
    "dont try above method for spliting the dataset for test and train data in production..we have to use random samples for test and train data...\n",
    "if we use the same for test and train split as above ..it may increse the bias in test and train data if some one may sort the data and you are unable to identify that..to avoid such bias we have to use random samples"
   ]
  },
  {
   "cell_type": "code",
   "execution_count": 21,
   "id": "185c2a1f",
   "metadata": {},
   "outputs": [],
   "source": [
    "dt_model=DecisionTreeClassifier(criterion=\"entropy\", random_state=1)"
   ]
  },
  {
   "cell_type": "markdown",
   "id": "5531648a",
   "metadata": {},
   "source": [
    "in above iam using entopy function the default id gini...dcrsion tree has lot of random functions.so we have to assign the random number..\n"
   ]
  },
  {
   "cell_type": "code",
   "execution_count": 22,
   "id": "9486cce4",
   "metadata": {},
   "outputs": [
    {
     "data": {
      "text/plain": [
       "DecisionTreeClassifier(criterion='entropy', random_state=1)"
      ]
     },
     "execution_count": 22,
     "metadata": {},
     "output_type": "execute_result"
    }
   ],
   "source": [
    "dt_model.fit(train_set,train_labels)"
   ]
  },
  {
   "cell_type": "code",
   "execution_count": 23,
   "id": "66c44347",
   "metadata": {},
   "outputs": [
    {
     "data": {
      "text/plain": [
       "0.718"
      ]
     },
     "execution_count": 23,
     "metadata": {},
     "output_type": "execute_result"
    }
   ],
   "source": [
    "dt_model.score(test_set,test_labels)"
   ]
  },
  {
   "cell_type": "code",
   "execution_count": 24,
   "id": "19b46341",
   "metadata": {},
   "outputs": [
    {
     "data": {
      "text/plain": [
       "1.0"
      ]
     },
     "execution_count": 24,
     "metadata": {},
     "output_type": "execute_result"
    }
   ],
   "source": [
    "dt_model.score(train_set,train_labels)"
   ]
  },
  {
   "cell_type": "markdown",
   "id": "99fa4f6d",
   "metadata": {},
   "source": [
    "in above we got no errors on training data..while the same model on test data the accuracy down to 70%..it is called overfit..\n",
    "in production this tree wint work..so we hav to regularize thr tree"
   ]
  },
  {
   "cell_type": "code",
   "execution_count": 26,
   "id": "b29f3a43",
   "metadata": {},
   "outputs": [],
   "source": [
    "dt_model=DecisionTreeClassifier(criterion=\"entropy\",random_state=1,max_depth=5)"
   ]
  },
  {
   "cell_type": "code",
   "execution_count": 29,
   "id": "6278462d",
   "metadata": {},
   "outputs": [
    {
     "data": {
      "text/plain": [
       "DecisionTreeClassifier(criterion='entropy', max_depth=5, random_state=1)"
      ]
     },
     "execution_count": 29,
     "metadata": {},
     "output_type": "execute_result"
    }
   ],
   "source": [
    "dt_model.fit(train_set,train_labels)"
   ]
  },
  {
   "cell_type": "code",
   "execution_count": 30,
   "id": "5274b97b",
   "metadata": {},
   "outputs": [
    {
     "data": {
      "text/plain": [
       "0.72"
      ]
     },
     "execution_count": 30,
     "metadata": {},
     "output_type": "execute_result"
    }
   ],
   "source": [
    "dt_model.score(test_set,test_labels)"
   ]
  },
  {
   "cell_type": "code",
   "execution_count": 31,
   "id": "dcf4712f",
   "metadata": {},
   "outputs": [
    {
     "data": {
      "text/plain": [
       "0.798"
      ]
     },
     "execution_count": 31,
     "metadata": {},
     "output_type": "execute_result"
    }
   ],
   "source": [
    "dt_model.score(train_set,train_labels)"
   ]
  },
  {
   "cell_type": "markdown",
   "id": "428441e8",
   "metadata": {},
   "source": [
    "after regularizing the tree worekd fine on train data and test data,,no overfitting here"
   ]
  },
  {
   "cell_type": "code",
   "execution_count": null,
   "id": "60421b5d",
   "metadata": {},
   "outputs": [],
   "source": []
  }
 ],
 "metadata": {
  "kernelspec": {
   "display_name": "Python 3",
   "language": "python",
   "name": "python3"
  },
  "language_info": {
   "codemirror_mode": {
    "name": "ipython",
    "version": 3
   },
   "file_extension": ".py",
   "mimetype": "text/x-python",
   "name": "python",
   "nbconvert_exporter": "python",
   "pygments_lexer": "ipython3",
   "version": "3.8.8"
  }
 },
 "nbformat": 4,
 "nbformat_minor": 5
}
